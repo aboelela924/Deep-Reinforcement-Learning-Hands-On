{
  "nbformat": 4,
  "nbformat_minor": 0,
  "metadata": {
    "colab": {
      "name": "Deep Reinforcement Learning Hands-On: Chapter 02.ipynb",
      "provenance": [],
      "authorship_tag": "ABX9TyP1gzndAsjUulWbi0sSGd2J",
      "include_colab_link": true
    },
    "kernelspec": {
      "name": "python3",
      "display_name": "Python 3"
    }
  },
  "cells": [
    {
      "cell_type": "markdown",
      "metadata": {
        "id": "view-in-github",
        "colab_type": "text"
      },
      "source": [
        "<a href=\"https://colab.research.google.com/github/aboelela924/Deep-Reinforcement-Learning-Hands-On/blob/master/Deep_Reinforcement_Learning_Hands_On_Chapter_02.ipynb\" target=\"_parent\"><img src=\"https://colab.research.google.com/assets/colab-badge.svg\" alt=\"Open In Colab\"/></a>"
      ]
    },
    {
      "cell_type": "code",
      "metadata": {
        "id": "b0JeoEwzbFjx",
        "colab_type": "code",
        "colab": {}
      },
      "source": [
        "from typing import List\n",
        "import random\n",
        "class Environment:\n",
        "    \n",
        "    def __init__(self):\n",
        "        self.steps_left = 10\n",
        "\n",
        "    def observation(self) -> List[float]:\n",
        "        return [0.0, 0.0, 0.0, 0.0, 0.0, 0.0]\n",
        "\n",
        "    def get_actions(self) -> List[int]:\n",
        "        return [0, 1]\n",
        "\n",
        "    def is_done(self) -> bool:\n",
        "        return self.steps_left == 0\n",
        "    \n",
        "    def action(self, action: int) -> float:\n",
        "        if self.is_done():\n",
        "            raise Exception(\"Game Over\")\n",
        "        self.steps_left -= 1\n",
        "        return random.random()"
      ],
      "execution_count": 23,
      "outputs": []
    },
    {
      "cell_type": "code",
      "metadata": {
        "id": "3M1Ue03abYzP",
        "colab_type": "code",
        "colab": {}
      },
      "source": [
        "class Agent:\n",
        "    \n",
        "    def __init__(self):\n",
        "        self.total_reward = 0.0\n",
        "    \n",
        "    def step(self, env: Environment):\n",
        "        observation = env.observation()\n",
        "        actions = env.get_actions()\n",
        "        reward = env.action(random.choice(actions))\n",
        "        self.total_reward += reward"
      ],
      "execution_count": 24,
      "outputs": []
    },
    {
      "cell_type": "code",
      "metadata": {
        "id": "NmxugcHteG61",
        "colab_type": "code",
        "colab": {
          "base_uri": "https://localhost:8080/",
          "height": 33
        },
        "outputId": "5331a080-a4dd-4a25-84dc-346c66053f08"
      },
      "source": [
        "env = Environment()\n",
        "agent = Agent()\n",
        "\n",
        "while not env.is_done():\n",
        "    agent.step(env)\n",
        "\n",
        "print(\"Total reward got: %0.4f\"%agent.total_reward)"
      ],
      "execution_count": 25,
      "outputs": [
        {
          "output_type": "stream",
          "text": [
            "Total reward got: 4.7674\n"
          ],
          "name": "stdout"
        }
      ]
    },
    {
      "cell_type": "code",
      "metadata": {
        "id": "brzJf6RFfpy_",
        "colab_type": "code",
        "colab": {}
      },
      "source": [
        "import gym \n",
        "e = gym.make(\"CartPole-v0\")"
      ],
      "execution_count": 26,
      "outputs": []
    },
    {
      "cell_type": "code",
      "metadata": {
        "id": "VgF_5-gwJCXa",
        "colab_type": "code",
        "colab": {
          "base_uri": "https://localhost:8080/",
          "height": 33
        },
        "outputId": "db4ea90a-63ab-4879-b367-da75ef12acd1"
      },
      "source": [
        "obs = e.reset()\n",
        "print(obs)"
      ],
      "execution_count": 27,
      "outputs": [
        {
          "output_type": "stream",
          "text": [
            "[-0.00505082  0.00150113  0.04672757 -0.02765997]\n"
          ],
          "name": "stdout"
        }
      ]
    },
    {
      "cell_type": "code",
      "metadata": {
        "id": "JZIYznQsJvj7",
        "colab_type": "code",
        "colab": {
          "base_uri": "https://localhost:8080/",
          "height": 50
        },
        "outputId": "64648ef7-ca77-4b81-cd5c-93722152d894"
      },
      "source": [
        "print(e.action_space)\n",
        "print(e.observation_space)"
      ],
      "execution_count": 28,
      "outputs": [
        {
          "output_type": "stream",
          "text": [
            "Discrete(2)\n",
            "Box(4,)\n"
          ],
          "name": "stdout"
        }
      ]
    },
    {
      "cell_type": "code",
      "metadata": {
        "id": "Uq7O8S0fJ6Qd",
        "colab_type": "code",
        "colab": {
          "base_uri": "https://localhost:8080/",
          "height": 33
        },
        "outputId": "8658acfe-bf9a-4606-9115-24e5c72e4134"
      },
      "source": [
        "print(e.step(0))"
      ],
      "execution_count": 29,
      "outputs": [
        {
          "output_type": "stream",
          "text": [
            "(array([-0.00502079, -0.1942587 ,  0.04617437,  0.27939217]), 1.0, False, {})\n"
          ],
          "name": "stdout"
        }
      ]
    },
    {
      "cell_type": "code",
      "metadata": {
        "id": "eWHChP1UKG3L",
        "colab_type": "code",
        "colab": {
          "base_uri": "https://localhost:8080/",
          "height": 50
        },
        "outputId": "f8a5df03-35f7-4a2c-ad1c-c7f6aef72101"
      },
      "source": [
        "print(e.observation_space.sample())\n",
        "print(e.observation_space.sample())"
      ],
      "execution_count": 31,
      "outputs": [
        {
          "output_type": "stream",
          "text": [
            "[-4.1207629e-01  1.3863846e+38 -6.8396613e-02 -7.3983811e+37]\n",
            "[ 8.7512708e-01  4.0860091e+37  3.2410052e-02 -1.3721822e+38]\n"
          ],
          "name": "stdout"
        }
      ]
    },
    {
      "cell_type": "markdown",
      "metadata": {
        "id": "4AdY5CPIK-FI",
        "colab_type": "text"
      },
      "source": [
        "<h1>The random CartPole agent</h1>"
      ]
    },
    {
      "cell_type": "code",
      "metadata": {
        "id": "i3puRGVGKZUg",
        "colab_type": "code",
        "colab": {
          "base_uri": "https://localhost:8080/",
          "height": 33
        },
        "outputId": "0b103d12-82a3-4132-c4ad-1a570dae7a22"
      },
      "source": [
        "env = gym.make(\"CartPole-v0\")\n",
        "state = env.reset()\n",
        "isDone = False \n",
        "total_reward = 0\n",
        "num_of_steps = 0\n",
        "while not isDone:\n",
        "    action = env.action_space.sample()\n",
        "    state, reward, isDone, info = env.step(action)\n",
        "    total_reward += reward\n",
        "    num_of_steps += 1\n",
        "print(\"Episode done in %d steps, total reward %.2f\" % (num_of_steps, total_reward))"
      ],
      "execution_count": 39,
      "outputs": [
        {
          "output_type": "stream",
          "text": [
            "Episode done in 23 steps, total reward 23.00\n"
          ],
          "name": "stdout"
        }
      ]
    },
    {
      "cell_type": "markdown",
      "metadata": {
        "id": "A56zHspfSDtC",
        "colab_type": "text"
      },
      "source": [
        "<h1>Gym Wrappers</h1>"
      ]
    },
    {
      "cell_type": "code",
      "metadata": {
        "id": "HDhejWv5LTpb",
        "colab_type": "code",
        "colab": {}
      },
      "source": [
        "import gym \n",
        "from typing import TypeVar\n",
        "import random \n",
        "\n",
        "Action = TypeVar(\"Action\")\n",
        "\n",
        "class RandomActionWrapper(gym.ActionWrapper):\n",
        "\n",
        "    def __init__(self, env, epsilon=0.1):\n",
        "        super(RandomActionWrapper, self).__init__(env)\n",
        "        self.epsilon = epsilon\n",
        "        self.env = env\n",
        "\n",
        "    def action(self, action: Action) -> Action:\n",
        "        if random.random() < self.epsilon:\n",
        "            print(\"Random!!!\")\n",
        "            return env.action_space.sample()\n",
        "        return action"
      ],
      "execution_count": 45,
      "outputs": []
    }
  ]
}